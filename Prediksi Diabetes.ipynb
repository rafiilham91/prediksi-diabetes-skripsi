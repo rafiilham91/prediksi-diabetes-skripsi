{
 "cells": [
  {
   "cell_type": "code",
   "execution_count": 1,
   "metadata": {
    "executionInfo": {
     "elapsed": 14679,
     "status": "ok",
     "timestamp": 1729327394833,
     "user": {
      "displayName": "Fahmi Mislahudin",
      "userId": "00493718010340997604"
     },
     "user_tz": -420
    },
    "id": "wyN2ApLb1Jeu"
   },
   "outputs": [],
   "source": [
    "import pandas as pd\n",
    "import matplotlib.pyplot as plt\n",
    "import seaborn as sns\n",
    "import numpy as np\n",
    "\n",
    "from imblearn.over_sampling import SMOTE\n",
    "from sklearn.model_selection import train_test_split\n",
    "from sklearn.preprocessing import MinMaxScaler\n",
    "\n",
    "import tensorflow as tf\n",
    "from tensorflow.keras.models import Sequential\n",
    "from tensorflow.keras.layers import LSTM, Dense, Dropout\n",
    "from tensorflow.keras.optimizers import Adam, RMSprop\n",
    "from tensorflow.keras import initializers\n",
    "\n",
    "import warnings\n",
    "warnings.filterwarnings(\"ignore\", category=FutureWarning)"
   ]
  },
  {
   "cell_type": "code",
   "execution_count": 2,
   "metadata": {
    "colab": {
     "base_uri": "https://localhost:8080/",
     "height": 330
    },
    "executionInfo": {
     "elapsed": 2953,
     "status": "ok",
     "timestamp": 1729327397748,
     "user": {
      "displayName": "Fahmi Mislahudin",
      "userId": "00493718010340997604"
     },
     "user_tz": -420
    },
    "id": "Kco_5vDGXWOv",
    "outputId": "c751933c-0f1f-491c-e1f3-1152697cf067"
   },
   "outputs": [
    {
     "data": {
      "text/html": [
       "<div>\n",
       "<style scoped>\n",
       "    .dataframe tbody tr th:only-of-type {\n",
       "        vertical-align: middle;\n",
       "    }\n",
       "\n",
       "    .dataframe tbody tr th {\n",
       "        vertical-align: top;\n",
       "    }\n",
       "\n",
       "    .dataframe thead th {\n",
       "        text-align: right;\n",
       "    }\n",
       "</style>\n",
       "<table border=\"1\" class=\"dataframe\">\n",
       "  <thead>\n",
       "    <tr style=\"text-align: right;\">\n",
       "      <th></th>\n",
       "      <th>puskesmas</th>\n",
       "      <th>kelurahan</th>\n",
       "      <th>umur</th>\n",
       "      <th>jk</th>\n",
       "      <th>merokok</th>\n",
       "      <th>aktivitas_fisik</th>\n",
       "      <th>konsumsi_alkohol</th>\n",
       "      <th>tekanan_darah</th>\n",
       "      <th>bmi</th>\n",
       "      <th>lingkar_perut</th>\n",
       "      <th>pemeriksaan_gula</th>\n",
       "      <th>latitude</th>\n",
       "      <th>longitude</th>\n",
       "      <th>diagnosis</th>\n",
       "    </tr>\n",
       "  </thead>\n",
       "  <tbody>\n",
       "    <tr>\n",
       "      <th>0</th>\n",
       "      <td>Bogor Selatan</td>\n",
       "      <td>Pamoyanan</td>\n",
       "      <td>48.0</td>\n",
       "      <td>0</td>\n",
       "      <td>0</td>\n",
       "      <td>0</td>\n",
       "      <td>0</td>\n",
       "      <td>70.0</td>\n",
       "      <td>18.73</td>\n",
       "      <td>85.0</td>\n",
       "      <td>197</td>\n",
       "      <td>-6.640877</td>\n",
       "      <td>106.793165</td>\n",
       "      <td>1</td>\n",
       "    </tr>\n",
       "    <tr>\n",
       "      <th>1</th>\n",
       "      <td>Bogor Selatan</td>\n",
       "      <td>Pamoyanan</td>\n",
       "      <td>75.0</td>\n",
       "      <td>0</td>\n",
       "      <td>0</td>\n",
       "      <td>0</td>\n",
       "      <td>0</td>\n",
       "      <td>70.0</td>\n",
       "      <td>21.64</td>\n",
       "      <td>80.0</td>\n",
       "      <td>155</td>\n",
       "      <td>-6.640877</td>\n",
       "      <td>106.793165</td>\n",
       "      <td>1</td>\n",
       "    </tr>\n",
       "    <tr>\n",
       "      <th>2</th>\n",
       "      <td>Bogor Selatan</td>\n",
       "      <td>Pamoyanan</td>\n",
       "      <td>67.0</td>\n",
       "      <td>0</td>\n",
       "      <td>0</td>\n",
       "      <td>1</td>\n",
       "      <td>0</td>\n",
       "      <td>70.0</td>\n",
       "      <td>27.68</td>\n",
       "      <td>84.0</td>\n",
       "      <td>180</td>\n",
       "      <td>-6.640877</td>\n",
       "      <td>106.793165</td>\n",
       "      <td>1</td>\n",
       "    </tr>\n",
       "    <tr>\n",
       "      <th>3</th>\n",
       "      <td>Bogor Selatan</td>\n",
       "      <td>Ranggamekar</td>\n",
       "      <td>42.0</td>\n",
       "      <td>0</td>\n",
       "      <td>0</td>\n",
       "      <td>0</td>\n",
       "      <td>0</td>\n",
       "      <td>88.0</td>\n",
       "      <td>31.59</td>\n",
       "      <td>93.5</td>\n",
       "      <td>210</td>\n",
       "      <td>-6.624390</td>\n",
       "      <td>106.791912</td>\n",
       "      <td>1</td>\n",
       "    </tr>\n",
       "    <tr>\n",
       "      <th>4</th>\n",
       "      <td>Bogor Selatan</td>\n",
       "      <td>Ranggamekar</td>\n",
       "      <td>45.0</td>\n",
       "      <td>0</td>\n",
       "      <td>0</td>\n",
       "      <td>0</td>\n",
       "      <td>0</td>\n",
       "      <td>80.0</td>\n",
       "      <td>20.94</td>\n",
       "      <td>90.0</td>\n",
       "      <td>240</td>\n",
       "      <td>-6.624390</td>\n",
       "      <td>106.791912</td>\n",
       "      <td>1</td>\n",
       "    </tr>\n",
       "  </tbody>\n",
       "</table>\n",
       "</div>"
      ],
      "text/plain": [
       "       puskesmas    kelurahan  umur  jk  merokok  aktivitas_fisik  \\\n",
       "0  Bogor Selatan    Pamoyanan  48.0   0        0                0   \n",
       "1  Bogor Selatan    Pamoyanan  75.0   0        0                0   \n",
       "2  Bogor Selatan    Pamoyanan  67.0   0        0                1   \n",
       "3  Bogor Selatan  Ranggamekar  42.0   0        0                0   \n",
       "4  Bogor Selatan  Ranggamekar  45.0   0        0                0   \n",
       "\n",
       "   konsumsi_alkohol  tekanan_darah    bmi  lingkar_perut  pemeriksaan_gula  \\\n",
       "0                 0           70.0  18.73           85.0               197   \n",
       "1                 0           70.0  21.64           80.0               155   \n",
       "2                 0           70.0  27.68           84.0               180   \n",
       "3                 0           88.0  31.59           93.5               210   \n",
       "4                 0           80.0  20.94           90.0               240   \n",
       "\n",
       "   latitude   longitude  diagnosis  \n",
       "0 -6.640877  106.793165          1  \n",
       "1 -6.640877  106.793165          1  \n",
       "2 -6.640877  106.793165          1  \n",
       "3 -6.624390  106.791912          1  \n",
       "4 -6.624390  106.791912          1  "
      ]
     },
     "execution_count": 2,
     "metadata": {},
     "output_type": "execute_result"
    }
   ],
   "source": [
    "# from google.colab import drive\n",
    "# drive.mount('/content/drive')\n",
    "\n",
    "# Replace 'path/to/your/dataset.csv' with the actual path to your CSV file in Google Drive\n",
    "# df = pd.read_csv('/content/drive/My Drive/Fahmi/diabetes_skripsi.csv')\n",
    "\n",
    "df = pd.read_csv('diabetes_skripsi.csv')\n",
    "df.head()"
   ]
  },
  {
   "cell_type": "code",
   "execution_count": 3,
   "metadata": {
    "colab": {
     "base_uri": "https://localhost:8080/"
    },
    "executionInfo": {
     "elapsed": 37,
     "status": "ok",
     "timestamp": 1729327397749,
     "user": {
      "displayName": "Fahmi Mislahudin",
      "userId": "00493718010340997604"
     },
     "user_tz": -420
    },
    "id": "ADY6I3TOXsgr",
    "outputId": "5e7f74e2-2eb0-439a-ce29-ee78a5236a23"
   },
   "outputs": [
    {
     "name": "stdout",
     "output_type": "stream",
     "text": [
      "<class 'pandas.core.frame.DataFrame'>\n",
      "RangeIndex: 2091 entries, 0 to 2090\n",
      "Data columns (total 14 columns):\n",
      " #   Column            Non-Null Count  Dtype  \n",
      "---  ------            --------------  -----  \n",
      " 0   puskesmas         2091 non-null   object \n",
      " 1   kelurahan         2091 non-null   object \n",
      " 2   umur              2091 non-null   float64\n",
      " 3   jk                2091 non-null   int64  \n",
      " 4   merokok           2091 non-null   int64  \n",
      " 5   aktivitas_fisik   2091 non-null   int64  \n",
      " 6   konsumsi_alkohol  2091 non-null   int64  \n",
      " 7   tekanan_darah     2091 non-null   float64\n",
      " 8   bmi               2091 non-null   float64\n",
      " 9   lingkar_perut     2091 non-null   float64\n",
      " 10  pemeriksaan_gula  2091 non-null   int64  \n",
      " 11  latitude          2091 non-null   float64\n",
      " 12  longitude         2091 non-null   float64\n",
      " 13  diagnosis         2091 non-null   int64  \n",
      "dtypes: float64(6), int64(6), object(2)\n",
      "memory usage: 228.8+ KB\n"
     ]
    }
   ],
   "source": [
    "df.info()"
   ]
  },
  {
   "cell_type": "code",
   "execution_count": 4,
   "metadata": {
    "executionInfo": {
     "elapsed": 37,
     "status": "ok",
     "timestamp": 1729327397748,
     "user": {
      "displayName": "Fahmi Mislahudin",
      "userId": "00493718010340997604"
     },
     "user_tz": -420
    },
    "id": "70Ja3mpWXqsu"
   },
   "outputs": [],
   "source": [
    "# Delete columns 'puskesmas', 'kelurahan', 'longitude', and 'latitude'\n",
    "df = df.drop(['puskesmas', 'kelurahan', 'longitude', 'latitude'], axis=1)"
   ]
  },
  {
   "cell_type": "code",
   "execution_count": 5,
   "metadata": {
    "executionInfo": {
     "elapsed": 24,
     "status": "ok",
     "timestamp": 1729327397750,
     "user": {
      "displayName": "Fahmi Mislahudin",
      "userId": "00493718010340997604"
     },
     "user_tz": -420
    },
    "id": "sBCfqwjrelzW"
   },
   "outputs": [],
   "source": [
    "# Define features (X) and target (y)\n",
    "X = df.drop(['diagnosis'], axis=1)\n",
    "y = df['diagnosis']"
   ]
  },
  {
   "cell_type": "code",
   "execution_count": 8,
   "metadata": {},
   "outputs": [
    {
     "name": "stdout",
     "output_type": "stream",
     "text": [
      "      umur  jk  merokok  aktivitas_fisik  konsumsi_alkohol  tekanan_darah  \\\n",
      "0     48.0   0        0                0                 0           70.0   \n",
      "1     75.0   0        0                0                 0           70.0   \n",
      "2     67.0   0        0                1                 0           70.0   \n",
      "3     42.0   0        0                0                 0           88.0   \n",
      "4     45.0   0        0                0                 0           80.0   \n",
      "...    ...  ..      ...              ...               ...            ...   \n",
      "2086  66.0   1        0                0                 0           70.0   \n",
      "2087  75.0   1        0                0                 0           90.0   \n",
      "2088  47.0   1        0                0                 0           80.0   \n",
      "2089  61.0   1        0                0                 0           80.0   \n",
      "2090  55.0   0        0                0                 0           80.0   \n",
      "\n",
      "        bmi  lingkar_perut  pemeriksaan_gula  \n",
      "0     18.73           85.0               197  \n",
      "1     21.64           80.0               155  \n",
      "2     27.68           84.0               180  \n",
      "3     31.59           93.5               210  \n",
      "4     20.94           90.0               240  \n",
      "...     ...            ...               ...  \n",
      "2086  24.97           85.0               180  \n",
      "2087  24.97           86.0               105  \n",
      "2088  22.22           80.0               164  \n",
      "2089  33.71          102.0               152  \n",
      "2090  24.98           92.0               122  \n",
      "\n",
      "[2091 rows x 9 columns]\n",
      "0       1\n",
      "1       1\n",
      "2       1\n",
      "3       1\n",
      "4       1\n",
      "       ..\n",
      "2086    1\n",
      "2087    0\n",
      "2088    1\n",
      "2089    1\n",
      "2090    0\n",
      "Name: diagnosis, Length: 2091, dtype: int64\n"
     ]
    }
   ],
   "source": [
    "print(X)\n",
    "print(y)"
   ]
  },
  {
   "cell_type": "code",
   "execution_count": 9,
   "metadata": {
    "executionInfo": {
     "elapsed": 14,
     "status": "ok",
     "timestamp": 1729327398100,
     "user": {
      "displayName": "Fahmi Mislahudin",
      "userId": "00493718010340997604"
     },
     "user_tz": -420
    },
    "id": "Ol8FgXqRelzY"
   },
   "outputs": [
    {
     "name": "stdout",
     "output_type": "stream",
     "text": [
      "[[0.2962963  0.         0.         ... 0.11712623 0.08735868 0.28709056]\n",
      " [0.5462963  0.         0.         ... 0.13552998 0.08221994 0.2061657 ]\n",
      " [0.47222222 0.         0.         ... 0.17372881 0.08633094 0.25433526]\n",
      " ...\n",
      " [0.28703704 1.         0.         ... 0.13919808 0.08221994 0.22350674]\n",
      " [0.41666667 1.         0.         ... 0.21186441 0.10483042 0.20038536]\n",
      " [0.36111111 0.         0.         ... 0.15665317 0.09455293 0.14258189]]\n"
     ]
    },
    {
     "name": "stderr",
     "output_type": "stream",
     "text": [
      "C:\\Users\\Soke\\anaconda3\\envs\\tensorflow\\Lib\\site-packages\\sklearn\\utils\\validation.py:767: FutureWarning: is_sparse is deprecated and will be removed in a future version. Check `isinstance(dtype, pd.SparseDtype)` instead.\n",
      "  if not hasattr(array, \"sparse\") and array.dtypes.apply(is_sparse).any():\n",
      "C:\\Users\\Soke\\anaconda3\\envs\\tensorflow\\Lib\\site-packages\\sklearn\\utils\\validation.py:605: FutureWarning: is_sparse is deprecated and will be removed in a future version. Check `isinstance(dtype, pd.SparseDtype)` instead.\n",
      "  if is_sparse(pd_dtype):\n",
      "C:\\Users\\Soke\\anaconda3\\envs\\tensorflow\\Lib\\site-packages\\sklearn\\utils\\validation.py:614: FutureWarning: is_sparse is deprecated and will be removed in a future version. Check `isinstance(dtype, pd.SparseDtype)` instead.\n",
      "  if is_sparse(pd_dtype) or not is_extension_array_dtype(pd_dtype):\n",
      "C:\\Users\\Soke\\anaconda3\\envs\\tensorflow\\Lib\\site-packages\\sklearn\\utils\\validation.py:767: FutureWarning: is_sparse is deprecated and will be removed in a future version. Check `isinstance(dtype, pd.SparseDtype)` instead.\n",
      "  if not hasattr(array, \"sparse\") and array.dtypes.apply(is_sparse).any():\n",
      "C:\\Users\\Soke\\anaconda3\\envs\\tensorflow\\Lib\\site-packages\\sklearn\\utils\\validation.py:605: FutureWarning: is_sparse is deprecated and will be removed in a future version. Check `isinstance(dtype, pd.SparseDtype)` instead.\n",
      "  if is_sparse(pd_dtype):\n",
      "C:\\Users\\Soke\\anaconda3\\envs\\tensorflow\\Lib\\site-packages\\sklearn\\utils\\validation.py:614: FutureWarning: is_sparse is deprecated and will be removed in a future version. Check `isinstance(dtype, pd.SparseDtype)` instead.\n",
      "  if is_sparse(pd_dtype) or not is_extension_array_dtype(pd_dtype):\n"
     ]
    }
   ],
   "source": [
    "# Scale the data using MinMaxScaler\n",
    "scaler = MinMaxScaler()\n",
    "X_scaled = scaler.fit_transform(X)\n",
    "print(X_scaled)"
   ]
  },
  {
   "cell_type": "code",
   "execution_count": 10,
   "metadata": {
    "executionInfo": {
     "elapsed": 23,
     "status": "ok",
     "timestamp": 1729327397750,
     "user": {
      "displayName": "Fahmi Mislahudin",
      "userId": "00493718010340997604"
     },
     "user_tz": -420
    },
    "id": "CTL2gRx7elzW"
   },
   "outputs": [
    {
     "name": "stderr",
     "output_type": "stream",
     "text": [
      "C:\\Users\\Soke\\anaconda3\\envs\\tensorflow\\Lib\\site-packages\\sklearn\\utils\\validation.py:605: FutureWarning: is_sparse is deprecated and will be removed in a future version. Check `isinstance(dtype, pd.SparseDtype)` instead.\n",
      "  if is_sparse(pd_dtype):\n",
      "C:\\Users\\Soke\\anaconda3\\envs\\tensorflow\\Lib\\site-packages\\sklearn\\utils\\validation.py:614: FutureWarning: is_sparse is deprecated and will be removed in a future version. Check `isinstance(dtype, pd.SparseDtype)` instead.\n",
      "  if is_sparse(pd_dtype) or not is_extension_array_dtype(pd_dtype):\n",
      "C:\\Users\\Soke\\anaconda3\\envs\\tensorflow\\Lib\\site-packages\\sklearn\\utils\\validation.py:605: FutureWarning: is_sparse is deprecated and will be removed in a future version. Check `isinstance(dtype, pd.SparseDtype)` instead.\n",
      "  if is_sparse(pd_dtype):\n",
      "C:\\Users\\Soke\\anaconda3\\envs\\tensorflow\\Lib\\site-packages\\sklearn\\utils\\validation.py:614: FutureWarning: is_sparse is deprecated and will be removed in a future version. Check `isinstance(dtype, pd.SparseDtype)` instead.\n",
      "  if is_sparse(pd_dtype) or not is_extension_array_dtype(pd_dtype):\n",
      "C:\\Users\\Soke\\anaconda3\\envs\\tensorflow\\Lib\\site-packages\\sklearn\\utils\\validation.py:605: FutureWarning: is_sparse is deprecated and will be removed in a future version. Check `isinstance(dtype, pd.SparseDtype)` instead.\n",
      "  if is_sparse(pd_dtype):\n",
      "C:\\Users\\Soke\\anaconda3\\envs\\tensorflow\\Lib\\site-packages\\sklearn\\utils\\validation.py:614: FutureWarning: is_sparse is deprecated and will be removed in a future version. Check `isinstance(dtype, pd.SparseDtype)` instead.\n",
      "  if is_sparse(pd_dtype) or not is_extension_array_dtype(pd_dtype):\n",
      "C:\\Users\\Soke\\anaconda3\\envs\\tensorflow\\Lib\\site-packages\\sklearn\\utils\\validation.py:605: FutureWarning: is_sparse is deprecated and will be removed in a future version. Check `isinstance(dtype, pd.SparseDtype)` instead.\n",
      "  if is_sparse(pd_dtype):\n",
      "C:\\Users\\Soke\\anaconda3\\envs\\tensorflow\\Lib\\site-packages\\sklearn\\utils\\validation.py:614: FutureWarning: is_sparse is deprecated and will be removed in a future version. Check `isinstance(dtype, pd.SparseDtype)` instead.\n",
      "  if is_sparse(pd_dtype) or not is_extension_array_dtype(pd_dtype):\n",
      "C:\\Users\\Soke\\anaconda3\\envs\\tensorflow\\Lib\\site-packages\\sklearn\\utils\\validation.py:605: FutureWarning: is_sparse is deprecated and will be removed in a future version. Check `isinstance(dtype, pd.SparseDtype)` instead.\n",
      "  if is_sparse(pd_dtype):\n",
      "C:\\Users\\Soke\\anaconda3\\envs\\tensorflow\\Lib\\site-packages\\sklearn\\utils\\validation.py:614: FutureWarning: is_sparse is deprecated and will be removed in a future version. Check `isinstance(dtype, pd.SparseDtype)` instead.\n",
      "  if is_sparse(pd_dtype) or not is_extension_array_dtype(pd_dtype):\n"
     ]
    }
   ],
   "source": [
    "# Apply SMOTE\n",
    "smote = SMOTE(random_state=42)\n",
    "X_smote, y_smote = smote.fit_resample(X_scaled, y)"
   ]
  },
  {
   "cell_type": "code",
   "execution_count": 11,
   "metadata": {
    "executionInfo": {
     "elapsed": 14,
     "status": "ok",
     "timestamp": 1729327398099,
     "user": {
      "displayName": "Fahmi Mislahudin",
      "userId": "00493718010340997604"
     },
     "user_tz": -420
    },
    "id": "VlvgpUB6elzX"
   },
   "outputs": [],
   "source": [
    "# Split into training and test sets\n",
    "X_train, X_test, y_train, y_test = train_test_split(X_smote,\n",
    "                                                    y_smote,\n",
    "                                                    test_size=0.1,\n",
    "                                                    random_state=42)"
   ]
  },
  {
   "cell_type": "code",
   "execution_count": 12,
   "metadata": {
    "executionInfo": {
     "elapsed": 13,
     "status": "ok",
     "timestamp": 1729327398100,
     "user": {
      "displayName": "Fahmi Mislahudin",
      "userId": "00493718010340997604"
     },
     "user_tz": -420
    },
    "id": "fwOWk3QLelzY"
   },
   "outputs": [],
   "source": [
    "# Reshape data for LSTM\n",
    "X_train = X_train.reshape((X_train.shape[0], 1, X_train.shape[1]))\n",
    "X_test = X_test.reshape((X_test.shape[0], 1, X_test.shape[1]))"
   ]
  },
  {
   "cell_type": "code",
   "execution_count": null,
   "metadata": {
    "colab": {
     "base_uri": "https://localhost:8080/",
     "height": 1000
    },
    "executionInfo": {
     "elapsed": 51638,
     "status": "ok",
     "timestamp": 1729327449727,
     "user": {
      "displayName": "Fahmi Mislahudin",
      "userId": "00493718010340997604"
     },
     "user_tz": -420
    },
    "id": "gFiXDfexelzZ",
    "outputId": "96be27db-3d7f-4837-9099-fa59587d5cdd"
   },
   "outputs": [],
   "source": [
    "# Inisiasi Hyperparameter\n",
    "num_neuron = 50\n",
    "num_epoch = 50\n",
    "num_batch = 32\n",
    "optimizer = Adam(learning_rate=0.001)\n",
    "\n",
    "# Membuat model Sequential\n",
    "model = Sequential()\n",
    "\n",
    "# Lapisan LSTM pertama\n",
    "model.add(LSTM(num_neuron, activation='relu', return_sequences=True, input_shape=(1, X_train.shape[2])))\n",
    "\n",
    "# Lapisan LSTM kedua\n",
    "model.add(LSTM(num_neuron, activation='relu', return_sequences=False))  # return_sequences=False karena lapisan ini terakhir\n",
    "\n",
    "# Lapisan Output (misalnya untuk klasifikasi biner, gunakan 1 neuron dengan aktivasi sigmoid)\n",
    "model.add(Dense(1, activation='sigmoid'))\n",
    "\n",
    "# Compile model\n",
    "model.compile(optimizer=optimizer,\n",
    "              loss='binary_crossentropy',\n",
    "              metrics=['accuracy'])\n",
    "\n",
    "# Melihat ringkasan model\n",
    "model.summary()\n",
    "\n",
    "# Train the model\n",
    "history = model.fit(X_train, y_train, epochs=num_epoch, batch_size=num_batch, validation_split=0.2, verbose=1)"
   ]
  },
  {
   "cell_type": "code",
   "execution_count": null,
   "metadata": {
    "colab": {
     "base_uri": "https://localhost:8080/",
     "height": 410
    },
    "executionInfo": {
     "elapsed": 904,
     "status": "ok",
     "timestamp": 1729327450614,
     "user": {
      "displayName": "Fahmi Mislahudin",
      "userId": "00493718010340997604"
     },
     "user_tz": -420
    },
    "id": "bCI91p4G4ytd",
    "outputId": "f99913a3-c12f-4a43-96b4-87bb45e0cea7"
   },
   "outputs": [],
   "source": [
    "# Plot accuracy dan loss\n",
    "\n",
    "plt.figure(figsize=(12, 4))\n",
    "plt.subplot(1, 2, 1)\n",
    "plt.plot(history.history['accuracy'], label='Train Accuracy')\n",
    "plt.plot(history.history['val_accuracy'], label='Validation Accuracy')\n",
    "plt.xlabel('Epoch')\n",
    "plt.ylabel('Accuracy')\n",
    "plt.legend()\n",
    "plt.title('Accuracy')\n",
    "\n",
    "plt.subplot(1, 2, 2)\n",
    "plt.plot(history.history['loss'], label='Train Loss')\n",
    "plt.plot(history.history['val_loss'], label='Validation Loss')\n",
    "plt.xlabel('Epoch')\n",
    "plt.ylabel('Loss')\n",
    "plt.legend()\n",
    "plt.title('Loss')\n",
    "\n",
    "plt.show()"
   ]
  },
  {
   "cell_type": "code",
   "execution_count": null,
   "metadata": {
    "colab": {
     "base_uri": "https://localhost:8080/"
    },
    "executionInfo": {
     "elapsed": 6,
     "status": "ok",
     "timestamp": 1729327450614,
     "user": {
      "displayName": "Fahmi Mislahudin",
      "userId": "00493718010340997604"
     },
     "user_tz": -420
    },
    "id": "OEFr8RYyelza",
    "outputId": "3d3843ec-bd4b-494b-ed01-dc17706679f0"
   },
   "outputs": [],
   "source": [
    "# Evaluate the model\n",
    "test_loss, test_accuracy = model.evaluate(X_test, y_test, verbose=0)\n",
    "print(f\"Test Accuracy: {test_accuracy}\")"
   ]
  },
  {
   "cell_type": "code",
   "execution_count": null,
   "metadata": {
    "colab": {
     "base_uri": "https://localhost:8080/"
    },
    "executionInfo": {
     "elapsed": 712,
     "status": "ok",
     "timestamp": 1729327451322,
     "user": {
      "displayName": "Fahmi Mislahudin",
      "userId": "00493718010340997604"
     },
     "user_tz": -420
    },
    "id": "H5Pa_HysYWod",
    "outputId": "743466ef-1272-445e-8781-98a39e5de362"
   },
   "outputs": [],
   "source": [
    "from sklearn.metrics import mean_absolute_error, mean_squared_error\n",
    "import numpy as np\n",
    "\n",
    "# Setelah model dilatih, kita lakukan prediksi pada test set\n",
    "y_pred_prob = model.predict(X_test)\n",
    "\n",
    "# Konversi prediksi probabilitas menjadi nilai kelas biner (0 atau 1)\n",
    "y_pred = (y_pred_prob > 0.5).astype(\"int32\")\n",
    "\n",
    "# Hitung MAE, RMSE, dan MAPE berdasarkan probabilitas prediksi\n",
    "mae = mean_absolute_error(y_test, y_pred_prob)\n",
    "rmse = np.sqrt(mean_squared_error(y_test, y_pred_prob))\n",
    "\n",
    "\n",
    "# Print hasil evaluasi\n",
    "print(f\"Mean Absolute Error (MAE): {mae}\")\n",
    "print(f\"Root Mean Squared Error (RMSE): {rmse}\")"
   ]
  },
  {
   "cell_type": "code",
   "execution_count": null,
   "metadata": {
    "executionInfo": {
     "elapsed": 13,
     "status": "ok",
     "timestamp": 1729327451323,
     "user": {
      "displayName": "Fahmi Mislahudin",
      "userId": "00493718010340997604"
     },
     "user_tz": -420
    },
    "id": "UWBHCsDtYe3S"
   },
   "outputs": [],
   "source": [
    "# Misalkan data baru dalam bentuk array atau dataframe\n",
    "new_data = np.array([[39, 1, 0, 0, 0, 92, 23.07, 90, 106]])\n",
    "\n",
    "# Scale data baru dengan scaler yang sama yang digunakan pada data pelatihan\n",
    "new_data_scaled = scaler.transform(new_data)\n",
    "\n",
    "# Reshape data baru untuk menyesuaikan input LSTM (samples, timesteps, features)\n",
    "new_data_scaled = new_data_scaled.reshape((new_data_scaled.shape[0], 1, new_data_scaled.shape[1]))\n",
    "\n",
    "# Prediksi probabilitas diabetes dengan model yang sudah dilatih\n",
    "new_prediction_prob = model.predict(new_data_scaled)\n",
    "\n",
    "# Konversi probabilitas ke prediksi kelas (0 atau 1)\n",
    "new_prediction_class = (new_prediction_prob > 0.5).astype(\"int32\")\n",
    "\n",
    "# Tampilkan hasil prediksi\n",
    "print(f\"Probabilitas Diabetes: {new_prediction_prob[0][0]}\")\n",
    "print(f\"Prediksi Kelas: {new_prediction_class[0][0]}\")  # 1: Diabetes, 0: Non-Diabetes"
   ]
  }
 ],
 "metadata": {
  "colab": {
   "provenance": []
  },
  "kernelspec": {
   "display_name": "Python 3 (ipykernel)",
   "language": "python",
   "name": "python3"
  },
  "language_info": {
   "codemirror_mode": {
    "name": "ipython",
    "version": 3
   },
   "file_extension": ".py",
   "mimetype": "text/x-python",
   "name": "python",
   "nbconvert_exporter": "python",
   "pygments_lexer": "ipython3",
   "version": "3.11.5"
  }
 },
 "nbformat": 4,
 "nbformat_minor": 1
}
