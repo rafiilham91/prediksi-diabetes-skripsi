{
 "cells": [
  {
   "cell_type": "code",
   "execution_count": 1,
   "metadata": {
    "executionInfo": {
     "elapsed": 14679,
     "status": "ok",
     "timestamp": 1729327394833,
     "user": {
      "displayName": "Fahmi Mislahudin",
      "userId": "00493718010340997604"
     },
     "user_tz": -420
    },
    "id": "wyN2ApLb1Jeu"
   },
   "outputs": [],
   "source": [
    "import pandas as pd\n",
    "import matplotlib.pyplot as plt\n",
    "import seaborn as sns\n",
    "import numpy as np\n",
    "\n",
    "from imblearn.over_sampling import SMOTE\n",
    "from sklearn.model_selection import train_test_split\n",
    "from sklearn.preprocessing import MinMaxScaler\n",
    "\n",
    "import tensorflow as tf\n",
    "from tensorflow.keras.models import Sequential\n",
    "from tensorflow.keras.layers import LSTM, Dense, Dropout\n",
    "from tensorflow.keras.optimizers import Adam, RMSprop\n",
    "from tensorflow.keras import initializers\n",
    "\n",
    "import warnings\n",
    "warnings.filterwarnings(\"ignore\", category=FutureWarning)"
   ]
  },
  {
   "cell_type": "code",
   "execution_count": 2,
   "metadata": {
    "colab": {
     "base_uri": "https://localhost:8080/",
     "height": 330
    },
    "executionInfo": {
     "elapsed": 2953,
     "status": "ok",
     "timestamp": 1729327397748,
     "user": {
      "displayName": "Fahmi Mislahudin",
      "userId": "00493718010340997604"
     },
     "user_tz": -420
    },
    "id": "Kco_5vDGXWOv",
    "outputId": "c751933c-0f1f-491c-e1f3-1152697cf067"
   },
   "outputs": [
    {
     "data": {
      "text/html": [
       "<div>\n",
       "<style scoped>\n",
       "    .dataframe tbody tr th:only-of-type {\n",
       "        vertical-align: middle;\n",
       "    }\n",
       "\n",
       "    .dataframe tbody tr th {\n",
       "        vertical-align: top;\n",
       "    }\n",
       "\n",
       "    .dataframe thead th {\n",
       "        text-align: right;\n",
       "    }\n",
       "</style>\n",
       "<table border=\"1\" class=\"dataframe\">\n",
       "  <thead>\n",
       "    <tr style=\"text-align: right;\">\n",
       "      <th></th>\n",
       "      <th>puskesmas</th>\n",
       "      <th>kelurahan</th>\n",
       "      <th>umur</th>\n",
       "      <th>jk</th>\n",
       "      <th>merokok</th>\n",
       "      <th>aktivitas_fisik</th>\n",
       "      <th>konsumsi_alkohol</th>\n",
       "      <th>tekanan_darah</th>\n",
       "      <th>bmi</th>\n",
       "      <th>lingkar_perut</th>\n",
       "      <th>pemeriksaan_gula</th>\n",
       "      <th>latitude</th>\n",
       "      <th>longitude</th>\n",
       "      <th>diagnosis</th>\n",
       "    </tr>\n",
       "  </thead>\n",
       "  <tbody>\n",
       "    <tr>\n",
       "      <th>0</th>\n",
       "      <td>Bogor Selatan</td>\n",
       "      <td>Pamoyanan</td>\n",
       "      <td>48</td>\n",
       "      <td>0</td>\n",
       "      <td>0</td>\n",
       "      <td>0</td>\n",
       "      <td>0</td>\n",
       "      <td>70</td>\n",
       "      <td>18.73</td>\n",
       "      <td>85.0</td>\n",
       "      <td>197</td>\n",
       "      <td>-6.640877</td>\n",
       "      <td>106.793165</td>\n",
       "      <td>1</td>\n",
       "    </tr>\n",
       "    <tr>\n",
       "      <th>1</th>\n",
       "      <td>Bogor Selatan</td>\n",
       "      <td>Pamoyanan</td>\n",
       "      <td>75</td>\n",
       "      <td>0</td>\n",
       "      <td>0</td>\n",
       "      <td>0</td>\n",
       "      <td>0</td>\n",
       "      <td>70</td>\n",
       "      <td>21.64</td>\n",
       "      <td>80.0</td>\n",
       "      <td>155</td>\n",
       "      <td>-6.640877</td>\n",
       "      <td>106.793165</td>\n",
       "      <td>1</td>\n",
       "    </tr>\n",
       "    <tr>\n",
       "      <th>2</th>\n",
       "      <td>Bogor Selatan</td>\n",
       "      <td>Pamoyanan</td>\n",
       "      <td>67</td>\n",
       "      <td>0</td>\n",
       "      <td>0</td>\n",
       "      <td>1</td>\n",
       "      <td>0</td>\n",
       "      <td>70</td>\n",
       "      <td>27.68</td>\n",
       "      <td>84.0</td>\n",
       "      <td>180</td>\n",
       "      <td>-6.640877</td>\n",
       "      <td>106.793165</td>\n",
       "      <td>1</td>\n",
       "    </tr>\n",
       "    <tr>\n",
       "      <th>3</th>\n",
       "      <td>Bogor Selatan</td>\n",
       "      <td>Ranggamekar</td>\n",
       "      <td>42</td>\n",
       "      <td>0</td>\n",
       "      <td>0</td>\n",
       "      <td>0</td>\n",
       "      <td>0</td>\n",
       "      <td>88</td>\n",
       "      <td>31.59</td>\n",
       "      <td>93.5</td>\n",
       "      <td>210</td>\n",
       "      <td>-6.624390</td>\n",
       "      <td>106.791912</td>\n",
       "      <td>1</td>\n",
       "    </tr>\n",
       "    <tr>\n",
       "      <th>4</th>\n",
       "      <td>Bogor Selatan</td>\n",
       "      <td>Ranggamekar</td>\n",
       "      <td>45</td>\n",
       "      <td>0</td>\n",
       "      <td>0</td>\n",
       "      <td>0</td>\n",
       "      <td>0</td>\n",
       "      <td>80</td>\n",
       "      <td>20.94</td>\n",
       "      <td>90.0</td>\n",
       "      <td>240</td>\n",
       "      <td>-6.624390</td>\n",
       "      <td>106.791912</td>\n",
       "      <td>1</td>\n",
       "    </tr>\n",
       "  </tbody>\n",
       "</table>\n",
       "</div>"
      ],
      "text/plain": [
       "       puskesmas    kelurahan  umur  jk  merokok  aktivitas_fisik  \\\n",
       "0  Bogor Selatan    Pamoyanan    48   0        0                0   \n",
       "1  Bogor Selatan    Pamoyanan    75   0        0                0   \n",
       "2  Bogor Selatan    Pamoyanan    67   0        0                1   \n",
       "3  Bogor Selatan  Ranggamekar    42   0        0                0   \n",
       "4  Bogor Selatan  Ranggamekar    45   0        0                0   \n",
       "\n",
       "   konsumsi_alkohol  tekanan_darah    bmi  lingkar_perut  pemeriksaan_gula  \\\n",
       "0                 0             70  18.73           85.0               197   \n",
       "1                 0             70  21.64           80.0               155   \n",
       "2                 0             70  27.68           84.0               180   \n",
       "3                 0             88  31.59           93.5               210   \n",
       "4                 0             80  20.94           90.0               240   \n",
       "\n",
       "   latitude   longitude  diagnosis  \n",
       "0 -6.640877  106.793165          1  \n",
       "1 -6.640877  106.793165          1  \n",
       "2 -6.640877  106.793165          1  \n",
       "3 -6.624390  106.791912          1  \n",
       "4 -6.624390  106.791912          1  "
      ]
     },
     "execution_count": 2,
     "metadata": {},
     "output_type": "execute_result"
    }
   ],
   "source": [
    "df = pd.read_csv('diabetes_skripsi.csv')\n",
    "df.head()"
   ]
  },
  {
   "cell_type": "code",
   "execution_count": 3,
   "metadata": {
    "colab": {
     "base_uri": "https://localhost:8080/"
    },
    "executionInfo": {
     "elapsed": 37,
     "status": "ok",
     "timestamp": 1729327397749,
     "user": {
      "displayName": "Fahmi Mislahudin",
      "userId": "00493718010340997604"
     },
     "user_tz": -420
    },
    "id": "ADY6I3TOXsgr",
    "outputId": "5e7f74e2-2eb0-439a-ce29-ee78a5236a23"
   },
   "outputs": [
    {
     "name": "stdout",
     "output_type": "stream",
     "text": [
      "<class 'pandas.core.frame.DataFrame'>\n",
      "RangeIndex: 2091 entries, 0 to 2090\n",
      "Data columns (total 14 columns):\n",
      " #   Column            Non-Null Count  Dtype  \n",
      "---  ------            --------------  -----  \n",
      " 0   puskesmas         2091 non-null   object \n",
      " 1   kelurahan         2091 non-null   object \n",
      " 2   umur              2091 non-null   int64  \n",
      " 3   jk                2091 non-null   int64  \n",
      " 4   merokok           2091 non-null   int64  \n",
      " 5   aktivitas_fisik   2091 non-null   int64  \n",
      " 6   konsumsi_alkohol  2091 non-null   int64  \n",
      " 7   tekanan_darah     2091 non-null   int64  \n",
      " 8   bmi               2091 non-null   float64\n",
      " 9   lingkar_perut     2091 non-null   float64\n",
      " 10  pemeriksaan_gula  2091 non-null   int64  \n",
      " 11  latitude          2091 non-null   float64\n",
      " 12  longitude         2091 non-null   float64\n",
      " 13  diagnosis         2091 non-null   int64  \n",
      "dtypes: float64(4), int64(8), object(2)\n",
      "memory usage: 228.8+ KB\n"
     ]
    }
   ],
   "source": [
    "df.info()"
   ]
  },
  {
   "cell_type": "code",
   "execution_count": 4,
   "metadata": {
    "executionInfo": {
     "elapsed": 37,
     "status": "ok",
     "timestamp": 1729327397748,
     "user": {
      "displayName": "Fahmi Mislahudin",
      "userId": "00493718010340997604"
     },
     "user_tz": -420
    },
    "id": "70Ja3mpWXqsu"
   },
   "outputs": [],
   "source": [
    "# Delete columns 'puskesmas', 'kelurahan', 'longitude', and 'latitude'\n",
    "df = df.drop(['puskesmas', 'kelurahan', 'longitude', 'latitude'], axis=1)"
   ]
  },
  {
   "cell_type": "code",
   "execution_count": 5,
   "metadata": {},
   "outputs": [
    {
     "data": {
      "text/html": [
       "<div>\n",
       "<style scoped>\n",
       "    .dataframe tbody tr th:only-of-type {\n",
       "        vertical-align: middle;\n",
       "    }\n",
       "\n",
       "    .dataframe tbody tr th {\n",
       "        vertical-align: top;\n",
       "    }\n",
       "\n",
       "    .dataframe thead th {\n",
       "        text-align: right;\n",
       "    }\n",
       "</style>\n",
       "<table border=\"1\" class=\"dataframe\">\n",
       "  <thead>\n",
       "    <tr style=\"text-align: right;\">\n",
       "      <th></th>\n",
       "      <th>umur</th>\n",
       "      <th>jk</th>\n",
       "      <th>merokok</th>\n",
       "      <th>aktivitas_fisik</th>\n",
       "      <th>konsumsi_alkohol</th>\n",
       "      <th>tekanan_darah</th>\n",
       "      <th>bmi</th>\n",
       "      <th>lingkar_perut</th>\n",
       "      <th>pemeriksaan_gula</th>\n",
       "      <th>diagnosis</th>\n",
       "    </tr>\n",
       "  </thead>\n",
       "  <tbody>\n",
       "    <tr>\n",
       "      <th>count</th>\n",
       "      <td>2091.000000</td>\n",
       "      <td>2091.000000</td>\n",
       "      <td>2091.000000</td>\n",
       "      <td>2091.000000</td>\n",
       "      <td>2091.0</td>\n",
       "      <td>2091.000000</td>\n",
       "      <td>2091.000000</td>\n",
       "      <td>2091.000000</td>\n",
       "      <td>2091.000000</td>\n",
       "      <td>2091.000000</td>\n",
       "    </tr>\n",
       "    <tr>\n",
       "      <th>mean</th>\n",
       "      <td>54.199904</td>\n",
       "      <td>0.497848</td>\n",
       "      <td>0.345768</td>\n",
       "      <td>0.499283</td>\n",
       "      <td>0.0</td>\n",
       "      <td>80.909134</td>\n",
       "      <td>24.111100</td>\n",
       "      <td>84.659493</td>\n",
       "      <td>168.157819</td>\n",
       "      <td>0.609278</td>\n",
       "    </tr>\n",
       "    <tr>\n",
       "      <th>std</th>\n",
       "      <td>12.541766</td>\n",
       "      <td>0.500115</td>\n",
       "      <td>0.475732</td>\n",
       "      <td>0.500119</td>\n",
       "      <td>0.0</td>\n",
       "      <td>10.892883</td>\n",
       "      <td>4.574302</td>\n",
       "      <td>10.876317</td>\n",
       "      <td>72.334278</td>\n",
       "      <td>0.488029</td>\n",
       "    </tr>\n",
       "    <tr>\n",
       "      <th>min</th>\n",
       "      <td>16.000000</td>\n",
       "      <td>0.000000</td>\n",
       "      <td>0.000000</td>\n",
       "      <td>0.000000</td>\n",
       "      <td>0.0</td>\n",
       "      <td>31.000000</td>\n",
       "      <td>0.210000</td>\n",
       "      <td>0.000000</td>\n",
       "      <td>48.000000</td>\n",
       "      <td>0.000000</td>\n",
       "    </tr>\n",
       "    <tr>\n",
       "      <th>25%</th>\n",
       "      <td>47.000000</td>\n",
       "      <td>0.000000</td>\n",
       "      <td>0.000000</td>\n",
       "      <td>0.000000</td>\n",
       "      <td>0.0</td>\n",
       "      <td>70.000000</td>\n",
       "      <td>21.370000</td>\n",
       "      <td>79.000000</td>\n",
       "      <td>109.000000</td>\n",
       "      <td>0.000000</td>\n",
       "    </tr>\n",
       "    <tr>\n",
       "      <th>50%</th>\n",
       "      <td>55.000000</td>\n",
       "      <td>0.000000</td>\n",
       "      <td>0.000000</td>\n",
       "      <td>0.000000</td>\n",
       "      <td>0.0</td>\n",
       "      <td>80.000000</td>\n",
       "      <td>23.310000</td>\n",
       "      <td>85.000000</td>\n",
       "      <td>150.000000</td>\n",
       "      <td>1.000000</td>\n",
       "    </tr>\n",
       "    <tr>\n",
       "      <th>75%</th>\n",
       "      <td>63.000000</td>\n",
       "      <td>1.000000</td>\n",
       "      <td>1.000000</td>\n",
       "      <td>1.000000</td>\n",
       "      <td>0.0</td>\n",
       "      <td>88.000000</td>\n",
       "      <td>26.040000</td>\n",
       "      <td>90.000000</td>\n",
       "      <td>219.000000</td>\n",
       "      <td>1.000000</td>\n",
       "    </tr>\n",
       "    <tr>\n",
       "      <th>max</th>\n",
       "      <td>92.000000</td>\n",
       "      <td>1.000000</td>\n",
       "      <td>1.000000</td>\n",
       "      <td>1.000000</td>\n",
       "      <td>0.0</td>\n",
       "      <td>190.000000</td>\n",
       "      <td>81.300000</td>\n",
       "      <td>250.000000</td>\n",
       "      <td>567.000000</td>\n",
       "      <td>1.000000</td>\n",
       "    </tr>\n",
       "  </tbody>\n",
       "</table>\n",
       "</div>"
      ],
      "text/plain": [
       "              umur           jk      merokok  aktivitas_fisik  \\\n",
       "count  2091.000000  2091.000000  2091.000000      2091.000000   \n",
       "mean     54.199904     0.497848     0.345768         0.499283   \n",
       "std      12.541766     0.500115     0.475732         0.500119   \n",
       "min      16.000000     0.000000     0.000000         0.000000   \n",
       "25%      47.000000     0.000000     0.000000         0.000000   \n",
       "50%      55.000000     0.000000     0.000000         0.000000   \n",
       "75%      63.000000     1.000000     1.000000         1.000000   \n",
       "max      92.000000     1.000000     1.000000         1.000000   \n",
       "\n",
       "       konsumsi_alkohol  tekanan_darah          bmi  lingkar_perut  \\\n",
       "count            2091.0    2091.000000  2091.000000    2091.000000   \n",
       "mean                0.0      80.909134    24.111100      84.659493   \n",
       "std                 0.0      10.892883     4.574302      10.876317   \n",
       "min                 0.0      31.000000     0.210000       0.000000   \n",
       "25%                 0.0      70.000000    21.370000      79.000000   \n",
       "50%                 0.0      80.000000    23.310000      85.000000   \n",
       "75%                 0.0      88.000000    26.040000      90.000000   \n",
       "max                 0.0     190.000000    81.300000     250.000000   \n",
       "\n",
       "       pemeriksaan_gula    diagnosis  \n",
       "count       2091.000000  2091.000000  \n",
       "mean         168.157819     0.609278  \n",
       "std           72.334278     0.488029  \n",
       "min           48.000000     0.000000  \n",
       "25%          109.000000     0.000000  \n",
       "50%          150.000000     1.000000  \n",
       "75%          219.000000     1.000000  \n",
       "max          567.000000     1.000000  "
      ]
     },
     "execution_count": 5,
     "metadata": {},
     "output_type": "execute_result"
    }
   ],
   "source": [
    "df.describe()"
   ]
  },
  {
   "cell_type": "code",
   "execution_count": 6,
   "metadata": {
    "executionInfo": {
     "elapsed": 24,
     "status": "ok",
     "timestamp": 1729327397750,
     "user": {
      "displayName": "Fahmi Mislahudin",
      "userId": "00493718010340997604"
     },
     "user_tz": -420
    },
    "id": "sBCfqwjrelzW"
   },
   "outputs": [],
   "source": [
    "# Define features (X) and target (y)\n",
    "X = df.drop(['diagnosis'], axis=1)\n",
    "y = df['diagnosis']"
   ]
  },
  {
   "cell_type": "code",
   "execution_count": 7,
   "metadata": {},
   "outputs": [
    {
     "name": "stdout",
     "output_type": "stream",
     "text": [
      "      umur  jk  merokok  aktivitas_fisik  konsumsi_alkohol  tekanan_darah  \\\n",
      "0       48   0        0                0                 0             70   \n",
      "1       75   0        0                0                 0             70   \n",
      "2       67   0        0                1                 0             70   \n",
      "3       42   0        0                0                 0             88   \n",
      "4       45   0        0                0                 0             80   \n",
      "...    ...  ..      ...              ...               ...            ...   \n",
      "2086    66   1        0                0                 0             70   \n",
      "2087    75   1        0                0                 0             90   \n",
      "2088    47   1        0                0                 0             80   \n",
      "2089    61   1        0                0                 0             80   \n",
      "2090    55   0        0                0                 0             80   \n",
      "\n",
      "        bmi  lingkar_perut  pemeriksaan_gula  \n",
      "0     18.73           85.0               197  \n",
      "1     21.64           80.0               155  \n",
      "2     27.68           84.0               180  \n",
      "3     31.59           93.5               210  \n",
      "4     20.94           90.0               240  \n",
      "...     ...            ...               ...  \n",
      "2086  24.97           85.0               180  \n",
      "2087  24.97           86.0               105  \n",
      "2088  22.22           80.0               164  \n",
      "2089  33.71          102.0               152  \n",
      "2090  24.98           92.0               122  \n",
      "\n",
      "[2091 rows x 9 columns]\n",
      "0       1\n",
      "1       1\n",
      "2       1\n",
      "3       1\n",
      "4       1\n",
      "       ..\n",
      "2086    1\n",
      "2087    0\n",
      "2088    1\n",
      "2089    1\n",
      "2090    0\n",
      "Name: diagnosis, Length: 2091, dtype: int64\n"
     ]
    }
   ],
   "source": [
    "print(X)\n",
    "print(y)"
   ]
  },
  {
   "cell_type": "code",
   "execution_count": 8,
   "metadata": {
    "executionInfo": {
     "elapsed": 14,
     "status": "ok",
     "timestamp": 1729327398100,
     "user": {
      "displayName": "Fahmi Mislahudin",
      "userId": "00493718010340997604"
     },
     "user_tz": -420
    },
    "id": "Ol8FgXqRelzY",
    "scrolled": true
   },
   "outputs": [
    {
     "name": "stdout",
     "output_type": "stream",
     "text": [
      "[[0.42105263 0.         0.         ... 0.22838821 0.34       0.28709056]\n",
      " [0.77631579 0.         0.         ... 0.26427426 0.32       0.2061657 ]\n",
      " [0.67105263 0.         0.         ... 0.3387594  0.336      0.25433526]\n",
      " ...\n",
      " [0.40789474 1.         0.         ... 0.27142681 0.32       0.22350674]\n",
      " [0.59210526 1.         0.         ... 0.41312122 0.408      0.20038536]\n",
      " [0.51315789 0.         0.         ... 0.30546307 0.368      0.14258189]]\n"
     ]
    }
   ],
   "source": [
    "# Scale the data using MinMaxScaler\n",
    "scaler = MinMaxScaler()\n",
    "X_scaled = scaler.fit_transform(X)\n",
    "print(X_scaled)"
   ]
  },
  {
   "cell_type": "code",
   "execution_count": 9,
   "metadata": {
    "executionInfo": {
     "elapsed": 23,
     "status": "ok",
     "timestamp": 1729327397750,
     "user": {
      "displayName": "Fahmi Mislahudin",
      "userId": "00493718010340997604"
     },
     "user_tz": -420
    },
    "id": "CTL2gRx7elzW"
   },
   "outputs": [],
   "source": [
    "# Apply SMOTE\n",
    "smote = SMOTE(random_state=42)\n",
    "X_smote, y_smote = smote.fit_resample(X_scaled, y)"
   ]
  },
  {
   "cell_type": "code",
   "execution_count": 10,
   "metadata": {
    "executionInfo": {
     "elapsed": 14,
     "status": "ok",
     "timestamp": 1729327398099,
     "user": {
      "displayName": "Fahmi Mislahudin",
      "userId": "00493718010340997604"
     },
     "user_tz": -420
    },
    "id": "VlvgpUB6elzX"
   },
   "outputs": [],
   "source": [
    "# Split into training and test sets\n",
    "X_train, X_test, y_train, y_test = train_test_split(X_smote,\n",
    "                                                    y_smote,\n",
    "                                                    test_size=0.1,\n",
    "                                                    random_state=42)"
   ]
  },
  {
   "cell_type": "code",
   "execution_count": 11,
   "metadata": {
    "executionInfo": {
     "elapsed": 13,
     "status": "ok",
     "timestamp": 1729327398100,
     "user": {
      "displayName": "Fahmi Mislahudin",
      "userId": "00493718010340997604"
     },
     "user_tz": -420
    },
    "id": "fwOWk3QLelzY"
   },
   "outputs": [],
   "source": [
    "# Reshape data for LSTM\n",
    "X_train = X_train.reshape((X_train.shape[0], 1, X_train.shape[1]))\n",
    "X_test = X_test.reshape((X_test.shape[0], 1, X_test.shape[1]))"
   ]
  },
  {
   "cell_type": "code",
   "execution_count": 12,
   "metadata": {
    "colab": {
     "base_uri": "https://localhost:8080/",
     "height": 1000
    },
    "executionInfo": {
     "elapsed": 51638,
     "status": "ok",
     "timestamp": 1729327449727,
     "user": {
      "displayName": "Fahmi Mislahudin",
      "userId": "00493718010340997604"
     },
     "user_tz": -420
    },
    "id": "gFiXDfexelzZ",
    "outputId": "96be27db-3d7f-4837-9099-fa59587d5cdd"
   },
   "outputs": [
    {
     "name": "stdout",
     "output_type": "stream",
     "text": [
      "Model: \"sequential\"\n",
      "_________________________________________________________________\n",
      " Layer (type)                Output Shape              Param #   \n",
      "=================================================================\n",
      " lstm (LSTM)                 (None, 1, 50)             12000     \n",
      "                                                                 \n",
      " lstm_1 (LSTM)               (None, 50)                20200     \n",
      "                                                                 \n",
      " dense (Dense)               (None, 1)                 51        \n",
      "                                                                 \n",
      "=================================================================\n",
      "Total params: 32251 (125.98 KB)\n",
      "Trainable params: 32251 (125.98 KB)\n",
      "Non-trainable params: 0 (0.00 Byte)\n",
      "_________________________________________________________________\n",
      "Epoch 1/50\n",
      "58/58 [==============================] - 12s 42ms/step - loss: 0.6904 - accuracy: 0.6210 - val_loss: 0.6842 - val_accuracy: 0.7320\n",
      "Epoch 2/50\n",
      "58/58 [==============================] - 1s 13ms/step - loss: 0.6686 - accuracy: 0.6865 - val_loss: 0.6329 - val_accuracy: 0.7211\n",
      "Epoch 3/50\n",
      "58/58 [==============================] - 1s 14ms/step - loss: 0.5809 - accuracy: 0.7236 - val_loss: 0.4878 - val_accuracy: 0.7800\n",
      "Epoch 4/50\n",
      "58/58 [==============================] - 1s 14ms/step - loss: 0.3975 - accuracy: 0.8375 - val_loss: 0.2814 - val_accuracy: 0.9477\n",
      "Epoch 5/50\n",
      "58/58 [==============================] - 1s 13ms/step - loss: 0.2409 - accuracy: 0.9313 - val_loss: 0.1812 - val_accuracy: 0.9804\n",
      "Epoch 6/50\n",
      "58/58 [==============================] - 1s 15ms/step - loss: 0.1747 - accuracy: 0.9509 - val_loss: 0.1361 - val_accuracy: 0.9542\n",
      "Epoch 7/50\n",
      "58/58 [==============================] - 1s 14ms/step - loss: 0.1471 - accuracy: 0.9531 - val_loss: 0.1061 - val_accuracy: 0.9826\n",
      "Epoch 8/50\n",
      "58/58 [==============================] - 1s 13ms/step - loss: 0.1279 - accuracy: 0.9689 - val_loss: 0.0894 - val_accuracy: 0.9760\n",
      "Epoch 9/50\n",
      "58/58 [==============================] - 1s 15ms/step - loss: 0.1171 - accuracy: 0.9635 - val_loss: 0.0795 - val_accuracy: 0.9826\n",
      "Epoch 10/50\n",
      "58/58 [==============================] - 1s 11ms/step - loss: 0.1018 - accuracy: 0.9744 - val_loss: 0.0714 - val_accuracy: 0.9782\n",
      "Epoch 11/50\n",
      "58/58 [==============================] - 1s 10ms/step - loss: 0.0960 - accuracy: 0.9722 - val_loss: 0.0646 - val_accuracy: 0.9847\n",
      "Epoch 12/50\n",
      "58/58 [==============================] - 1s 10ms/step - loss: 0.0991 - accuracy: 0.9706 - val_loss: 0.0640 - val_accuracy: 0.9782\n",
      "Epoch 13/50\n",
      "58/58 [==============================] - 1s 11ms/step - loss: 0.0851 - accuracy: 0.9782 - val_loss: 0.0549 - val_accuracy: 0.9869\n",
      "Epoch 14/50\n",
      "58/58 [==============================] - 1s 12ms/step - loss: 0.0797 - accuracy: 0.9760 - val_loss: 0.0600 - val_accuracy: 0.9935\n",
      "Epoch 15/50\n",
      "58/58 [==============================] - 1s 16ms/step - loss: 0.0767 - accuracy: 0.9793 - val_loss: 0.0514 - val_accuracy: 0.9782\n",
      "Epoch 16/50\n",
      "58/58 [==============================] - 1s 13ms/step - loss: 0.0721 - accuracy: 0.9798 - val_loss: 0.0455 - val_accuracy: 0.9978\n",
      "Epoch 17/50\n",
      "58/58 [==============================] - 1s 15ms/step - loss: 0.0676 - accuracy: 0.9826 - val_loss: 0.0420 - val_accuracy: 0.9891\n",
      "Epoch 18/50\n",
      "58/58 [==============================] - 1s 17ms/step - loss: 0.0663 - accuracy: 0.9826 - val_loss: 0.0414 - val_accuracy: 0.9891\n",
      "Epoch 19/50\n",
      "58/58 [==============================] - 1s 19ms/step - loss: 0.0643 - accuracy: 0.9798 - val_loss: 0.0512 - val_accuracy: 0.9935\n",
      "Epoch 20/50\n",
      "58/58 [==============================] - 1s 16ms/step - loss: 0.0642 - accuracy: 0.9831 - val_loss: 0.0411 - val_accuracy: 0.9935\n",
      "Epoch 21/50\n",
      "58/58 [==============================] - 1s 17ms/step - loss: 0.0630 - accuracy: 0.9809 - val_loss: 0.0434 - val_accuracy: 0.9826\n",
      "Epoch 22/50\n",
      "58/58 [==============================] - 1s 16ms/step - loss: 0.0624 - accuracy: 0.9815 - val_loss: 0.0365 - val_accuracy: 0.9891\n",
      "Epoch 23/50\n",
      "58/58 [==============================] - 1s 14ms/step - loss: 0.0561 - accuracy: 0.9864 - val_loss: 0.0328 - val_accuracy: 1.0000\n",
      "Epoch 24/50\n",
      "58/58 [==============================] - 1s 13ms/step - loss: 0.0519 - accuracy: 0.9858 - val_loss: 0.0417 - val_accuracy: 0.9804\n",
      "Epoch 25/50\n",
      "58/58 [==============================] - 1s 12ms/step - loss: 0.0541 - accuracy: 0.9826 - val_loss: 0.0296 - val_accuracy: 0.9913\n",
      "Epoch 26/50\n",
      "58/58 [==============================] - 1s 14ms/step - loss: 0.0568 - accuracy: 0.9798 - val_loss: 0.0286 - val_accuracy: 0.9935\n",
      "Epoch 27/50\n",
      "58/58 [==============================] - 1s 13ms/step - loss: 0.0503 - accuracy: 0.9847 - val_loss: 0.0306 - val_accuracy: 0.9891\n",
      "Epoch 28/50\n",
      "58/58 [==============================] - 1s 18ms/step - loss: 0.0474 - accuracy: 0.9853 - val_loss: 0.0264 - val_accuracy: 1.0000\n",
      "Epoch 29/50\n",
      "58/58 [==============================] - 1s 16ms/step - loss: 0.0463 - accuracy: 0.9875 - val_loss: 0.0269 - val_accuracy: 1.0000\n",
      "Epoch 30/50\n",
      "58/58 [==============================] - 1s 17ms/step - loss: 0.0488 - accuracy: 0.9842 - val_loss: 0.0246 - val_accuracy: 1.0000\n",
      "Epoch 31/50\n",
      "58/58 [==============================] - 1s 18ms/step - loss: 0.0521 - accuracy: 0.9820 - val_loss: 0.0270 - val_accuracy: 0.9978\n",
      "Epoch 32/50\n",
      "58/58 [==============================] - 1s 18ms/step - loss: 0.0445 - accuracy: 0.9864 - val_loss: 0.0271 - val_accuracy: 0.9978\n",
      "Epoch 33/50\n",
      "58/58 [==============================] - 1s 15ms/step - loss: 0.0446 - accuracy: 0.9891 - val_loss: 0.0221 - val_accuracy: 0.9956\n",
      "Epoch 34/50\n",
      "58/58 [==============================] - 1s 15ms/step - loss: 0.0414 - accuracy: 0.9896 - val_loss: 0.0257 - val_accuracy: 0.9891\n",
      "Epoch 35/50\n",
      "58/58 [==============================] - 1s 16ms/step - loss: 0.0429 - accuracy: 0.9869 - val_loss: 0.0229 - val_accuracy: 0.9891\n",
      "Epoch 36/50\n",
      "58/58 [==============================] - 1s 18ms/step - loss: 0.0401 - accuracy: 0.9880 - val_loss: 0.0258 - val_accuracy: 0.9956\n",
      "Epoch 37/50\n",
      "58/58 [==============================] - 1s 14ms/step - loss: 0.0396 - accuracy: 0.9864 - val_loss: 0.0211 - val_accuracy: 0.9913\n",
      "Epoch 38/50\n",
      "58/58 [==============================] - 1s 14ms/step - loss: 0.0383 - accuracy: 0.9896 - val_loss: 0.0235 - val_accuracy: 0.9891\n",
      "Epoch 39/50\n",
      "58/58 [==============================] - 1s 12ms/step - loss: 0.0386 - accuracy: 0.9891 - val_loss: 0.0250 - val_accuracy: 0.9891\n",
      "Epoch 40/50\n",
      "58/58 [==============================] - 1s 14ms/step - loss: 0.0373 - accuracy: 0.9853 - val_loss: 0.0191 - val_accuracy: 1.0000\n",
      "Epoch 41/50\n",
      "58/58 [==============================] - 1s 13ms/step - loss: 0.0372 - accuracy: 0.9836 - val_loss: 0.0213 - val_accuracy: 0.9935\n",
      "Epoch 42/50\n",
      "58/58 [==============================] - 1s 13ms/step - loss: 0.0367 - accuracy: 0.9902 - val_loss: 0.0185 - val_accuracy: 1.0000\n",
      "Epoch 43/50\n",
      "58/58 [==============================] - 1s 13ms/step - loss: 0.0417 - accuracy: 0.9826 - val_loss: 0.0185 - val_accuracy: 1.0000\n",
      "Epoch 44/50\n",
      "58/58 [==============================] - 1s 13ms/step - loss: 0.0368 - accuracy: 0.9891 - val_loss: 0.0174 - val_accuracy: 1.0000\n",
      "Epoch 45/50\n",
      "58/58 [==============================] - 1s 14ms/step - loss: 0.0384 - accuracy: 0.9847 - val_loss: 0.0183 - val_accuracy: 1.0000\n",
      "Epoch 46/50\n",
      "58/58 [==============================] - 1s 10ms/step - loss: 0.0353 - accuracy: 0.9885 - val_loss: 0.0176 - val_accuracy: 1.0000\n",
      "Epoch 47/50\n",
      "58/58 [==============================] - 1s 10ms/step - loss: 0.0359 - accuracy: 0.9864 - val_loss: 0.0199 - val_accuracy: 0.9891\n",
      "Epoch 48/50\n",
      "58/58 [==============================] - 1s 10ms/step - loss: 0.0347 - accuracy: 0.9880 - val_loss: 0.0197 - val_accuracy: 0.9891\n",
      "Epoch 49/50\n",
      "58/58 [==============================] - 1s 13ms/step - loss: 0.0348 - accuracy: 0.9875 - val_loss: 0.0211 - val_accuracy: 0.9891\n",
      "Epoch 50/50\n",
      "58/58 [==============================] - 1s 10ms/step - loss: 0.0322 - accuracy: 0.9913 - val_loss: 0.0223 - val_accuracy: 0.9891\n"
     ]
    }
   ],
   "source": [
    "# Inisiasi Hyperparameter\n",
    "num_neuron = 50\n",
    "num_epoch = 50\n",
    "num_batch = 32\n",
    "optimizer = Adam(learning_rate=0.001)\n",
    "\n",
    "# Membuat model Sequential\n",
    "model = Sequential()\n",
    "\n",
    "# Lapisan LSTM pertama\n",
    "model.add(LSTM(num_neuron, activation='relu', return_sequences=True, input_shape=(1, X_train.shape[2])))\n",
    "\n",
    "# Lapisan LSTM kedua\n",
    "model.add(LSTM(num_neuron, activation='relu', return_sequences=False))  # return_sequences=False karena lapisan ini terakhir\n",
    "\n",
    "# Lapisan Output (misalnya untuk klasifikasi biner, gunakan 1 neuron dengan aktivasi sigmoid)\n",
    "model.add(Dense(1, activation='sigmoid'))\n",
    "\n",
    "# Compile model\n",
    "model.compile(optimizer=optimizer,\n",
    "              loss='binary_crossentropy',\n",
    "              metrics=['accuracy'])\n",
    "\n",
    "# Melihat ringkasan model\n",
    "model.summary()\n",
    "\n",
    "# Train the model\n",
    "history = model.fit(X_train, y_train, epochs=num_epoch, batch_size=num_batch, validation_split=0.2, verbose=1)"
   ]
  },
  {
   "cell_type": "code",
   "execution_count": 13,
   "metadata": {
    "colab": {
     "base_uri": "https://localhost:8080/",
     "height": 410
    },
    "executionInfo": {
     "elapsed": 904,
     "status": "ok",
     "timestamp": 1729327450614,
     "user": {
      "displayName": "Fahmi Mislahudin",
      "userId": "00493718010340997604"
     },
     "user_tz": -420
    },
    "id": "bCI91p4G4ytd",
    "outputId": "f99913a3-c12f-4a43-96b4-87bb45e0cea7"
   },
   "outputs": [
    {
     "data": {
      "image/png": "[encoded data removed]",
      "text/plain": [
       "<Figure size 1200x400 with 2 Axes>"
      ]
     },
     "metadata": {},
     "output_type": "display_data"
    }
   ],
   "source": [
    "# Plot accuracy dan loss\n",
    "\n",
    "plt.figure(figsize=(12, 4))\n",
    "plt.subplot(1, 2, 1)\n",
    "plt.plot(history.history['accuracy'], label='Train Accuracy')\n",
    "plt.plot(history.history['val_accuracy'], label='Validation Accuracy')\n",
    "plt.xlabel('Epoch')\n",
    "plt.ylabel('Accuracy')\n",
    "plt.legend()\n",
    "plt.title('Accuracy')\n",
    "\n",
    "plt.subplot(1, 2, 2)\n",
    "plt.plot(history.history['loss'], label='Train Loss')\n",
    "plt.plot(history.history['val_loss'], label='Validation Loss')\n",
    "plt.xlabel('Epoch')\n",
    "plt.ylabel('Loss')\n",
    "plt.legend()\n",
    "plt.title('Loss')\n",
    "\n",
    "plt.show()"
   ]
  },
  {
   "cell_type": "code",
   "execution_count": 14,
   "metadata": {
    "colab": {
     "base_uri": "https://localhost:8080/"
    },
    "executionInfo": {
     "elapsed": 6,
     "status": "ok",
     "timestamp": 1729327450614,
     "user": {
      "displayName": "Fahmi Mislahudin",
      "userId": "00493718010340997604"
     },
     "user_tz": -420
    },
    "id": "OEFr8RYyelza",
    "outputId": "3d3843ec-bd4b-494b-ed01-dc17706679f0"
   },
   "outputs": [
    {
     "name": "stdout",
     "output_type": "stream",
     "text": [
      "Test Accuracy: 0.9803921580314636\n"
     ]
    }
   ],
   "source": [
    "# Evaluate the model\n",
    "test_loss, test_accuracy = model.evaluate(X_test, y_test, verbose=0)\n",
    "print(f\"Test Accuracy: {test_accuracy}\")"
   ]
  },
  {
   "cell_type": "code",
   "execution_count": 15,
   "metadata": {
    "colab": {
     "base_uri": "https://localhost:8080/"
    },
    "executionInfo": {
     "elapsed": 712,
     "status": "ok",
     "timestamp": 1729327451322,
     "user": {
      "displayName": "Fahmi Mislahudin",
      "userId": "00493718010340997604"
     },
     "user_tz": -420
    },
    "id": "H5Pa_HysYWod",
    "outputId": "743466ef-1272-445e-8781-98a39e5de362"
   },
   "outputs": [
    {
     "name": "stdout",
     "output_type": "stream",
     "text": [
      "8/8 [==============================] - 1s 9ms/step\n",
      "Mean Absolute Error (MAE): 0.024469114619246512\n",
      "Root Mean Squared Error (RMSE): 0.10957342981071774\n"
     ]
    }
   ],
   "source": [
    "from sklearn.metrics import mean_absolute_error, mean_squared_error\n",
    "import numpy as np\n",
    "\n",
    "# Setelah model dilatih, kita lakukan prediksi pada test set\n",
    "y_pred_prob = model.predict(X_test)\n",
    "\n",
    "# Konversi prediksi probabilitas menjadi nilai kelas biner (0 atau 1)\n",
    "y_pred = (y_pred_prob > 0.5).astype(\"int32\")\n",
    "\n",
    "# Hitung MAE, RMSE, dan MAPE berdasarkan probabilitas prediksi\n",
    "mae = mean_absolute_error(y_test, y_pred_prob)\n",
    "rmse = np.sqrt(mean_squared_error(y_test, y_pred_prob))\n",
    "\n",
    "\n",
    "# Print hasil evaluasi\n",
    "print(f\"Mean Absolute Error (MAE): {mae}\")\n",
    "print(f\"Root Mean Squared Error (RMSE): {rmse}\")"
   ]
  },
  {
   "cell_type": "code",
   "execution_count": 16,
   "metadata": {},
   "outputs": [
    {
     "data": {
      "text/html": [
       "<div>\n",
       "<style scoped>\n",
       "    .dataframe tbody tr th:only-of-type {\n",
       "        vertical-align: middle;\n",
       "    }\n",
       "\n",
       "    .dataframe tbody tr th {\n",
       "        vertical-align: top;\n",
       "    }\n",
       "\n",
       "    .dataframe thead th {\n",
       "        text-align: right;\n",
       "    }\n",
       "</style>\n",
       "<table border=\"1\" class=\"dataframe\">\n",
       "  <thead>\n",
       "    <tr style=\"text-align: right;\">\n",
       "      <th></th>\n",
       "      <th>Data Aktual</th>\n",
       "      <th>Prediksi</th>\n",
       "      <th>Probabilitas Prediksi</th>\n",
       "    </tr>\n",
       "  </thead>\n",
       "  <tbody>\n",
       "    <tr>\n",
       "      <th>0</th>\n",
       "      <td>1</td>\n",
       "      <td>1</td>\n",
       "      <td>1.000000e+00</td>\n",
       "    </tr>\n",
       "    <tr>\n",
       "      <th>1</th>\n",
       "      <td>1</td>\n",
       "      <td>1</td>\n",
       "      <td>9.991630e-01</td>\n",
       "    </tr>\n",
       "    <tr>\n",
       "      <th>2</th>\n",
       "      <td>0</td>\n",
       "      <td>0</td>\n",
       "      <td>4.638685e-04</td>\n",
       "    </tr>\n",
       "    <tr>\n",
       "      <th>3</th>\n",
       "      <td>1</td>\n",
       "      <td>1</td>\n",
       "      <td>1.000000e+00</td>\n",
       "    </tr>\n",
       "    <tr>\n",
       "      <th>4</th>\n",
       "      <td>1</td>\n",
       "      <td>1</td>\n",
       "      <td>1.000000e+00</td>\n",
       "    </tr>\n",
       "    <tr>\n",
       "      <th>...</th>\n",
       "      <td>...</td>\n",
       "      <td>...</td>\n",
       "      <td>...</td>\n",
       "    </tr>\n",
       "    <tr>\n",
       "      <th>250</th>\n",
       "      <td>0</td>\n",
       "      <td>0</td>\n",
       "      <td>1.526389e-02</td>\n",
       "    </tr>\n",
       "    <tr>\n",
       "      <th>251</th>\n",
       "      <td>0</td>\n",
       "      <td>0</td>\n",
       "      <td>9.063344e-07</td>\n",
       "    </tr>\n",
       "    <tr>\n",
       "      <th>252</th>\n",
       "      <td>1</td>\n",
       "      <td>1</td>\n",
       "      <td>1.000000e+00</td>\n",
       "    </tr>\n",
       "    <tr>\n",
       "      <th>253</th>\n",
       "      <td>0</td>\n",
       "      <td>0</td>\n",
       "      <td>9.038919e-05</td>\n",
       "    </tr>\n",
       "    <tr>\n",
       "      <th>254</th>\n",
       "      <td>0</td>\n",
       "      <td>0</td>\n",
       "      <td>9.874175e-03</td>\n",
       "    </tr>\n",
       "  </tbody>\n",
       "</table>\n",
       "<p>255 rows × 3 columns</p>\n",
       "</div>"
      ],
      "text/plain": [
       "     Data Aktual  Prediksi  Probabilitas Prediksi\n",
       "0              1         1           1.000000e+00\n",
       "1              1         1           9.991630e-01\n",
       "2              0         0           4.638685e-04\n",
       "3              1         1           1.000000e+00\n",
       "4              1         1           1.000000e+00\n",
       "..           ...       ...                    ...\n",
       "250            0         0           1.526389e-02\n",
       "251            0         0           9.063344e-07\n",
       "252            1         1           1.000000e+00\n",
       "253            0         0           9.038919e-05\n",
       "254            0         0           9.874175e-03\n",
       "\n",
       "[255 rows x 3 columns]"
      ]
     },
     "execution_count": 16,
     "metadata": {},
     "output_type": "execute_result"
    }
   ],
   "source": [
    "# Buat tabel perbandingan antara data aktual dan prediksi\n",
    "comparison_df = pd.DataFrame({\n",
    "    'Data Aktual': y_test.values,  # Mengambil nilai sebagai array NumPy\n",
    "    'Prediksi': y_pred.flatten(),  # Jika y_pred adalah NumPy array\n",
    "    'Probabilitas Prediksi': y_pred_prob.flatten()  # Jika y_pred_prob adalah NumPy array\n",
    "})\n",
    "\n",
    "comparison_df"
   ]
  },
  {
   "cell_type": "code",
   "execution_count": 18,
   "metadata": {},
   "outputs": [
    {
     "name": "stdout",
     "output_type": "stream",
     "text": [
      "Confusion Matrix:\n",
      "[[132   0]\n",
      " [  5 118]]\n"
     ]
    },
    {
     "data": {
      "image/png": "[encoded data removed]",
      "text/plain": [
       "<Figure size 600x600 with 2 Axes>"
      ]
     },
     "metadata": {},
     "output_type": "display_data"
    }
   ],
   "source": [
    "from sklearn.metrics import confusion_matrix, ConfusionMatrixDisplay\n",
    "\n",
    "# Hitung confusion matrix\n",
    "cm = confusion_matrix(y_test, y_pred)\n",
    "\n",
    "# Tampilkan confusion matrix\n",
    "print(\"Confusion Matrix:\")\n",
    "print(cm)\n",
    "\n",
    "# Visualisasi confusion matrix\n",
    "fig, ax = plt.subplots(figsize=(6, 6))\n",
    "disp = ConfusionMatrixDisplay(confusion_matrix=cm, display_labels=['Class 0', 'Class 1'])\n",
    "disp.plot(cmap='Blues', ax=ax, colorbar=True)\n",
    "plt.title(\"Confusion Matrix\")\n",
    "plt.show()"
   ]
  },
  {
   "cell_type": "code",
   "execution_count": null,
   "metadata": {
    "executionInfo": {
     "elapsed": 13,
     "status": "ok",
     "timestamp": 1729327451323,
     "user": {
      "displayName": "Fahmi Mislahudin",
      "userId": "00493718010340997604"
     },
     "user_tz": -420
    },
    "id": "UWBHCsDtYe3S"
   },
   "outputs": [],
   "source": [
    "# Misalkan data baru dalam bentuk array atau dataframe\n",
    "new_data = np.array([[39, 1, 0, 0, 0, 92, 23.07, 90, 106]])\n",
    "\n",
    "# Scale data baru dengan scaler yang sama yang digunakan pada data pelatihan\n",
    "new_data_scaled = scaler.transform(new_data)\n",
    "\n",
    "# Reshape data baru untuk menyesuaikan input LSTM (samples, timesteps, features)\n",
    "new_data_scaled = new_data_scaled.reshape((new_data_scaled.shape[0], 1, new_data_scaled.shape[1]))\n",
    "\n",
    "# Prediksi probabilitas diabetes dengan model yang sudah dilatih\n",
    "new_prediction_prob = model.predict(new_data_scaled)\n",
    "\n",
    "# Konversi probabilitas ke prediksi kelas (0 atau 1)\n",
    "new_prediction_class = (new_prediction_prob > 0.5).astype(\"int32\")\n",
    "\n",
    "# Tampilkan hasil prediksi\n",
    "print(f\"Probabilitas Diabetes: {new_prediction_prob[0][0] * 100:.2f}%\")\n",
    "print(f\"Prediksi Kelas: {new_prediction_class[0][0]}\")  # 1: Diabetes, 0: Non-Diabetes"
   ]
  },
  {
   "cell_type": "code",
   "execution_count": null,
   "metadata": {},
   "outputs": [],
   "source": []
  }
 ],
 "metadata": {
  "colab": {
   "provenance": []
  },
  "kernelspec": {
   "display_name": "Python 3 (ipykernel)",
   "language": "python",
   "name": "python3"
  },
  "language_info": {
   "codemirror_mode": {
    "name": "ipython",
    "version": 3
   },
   "file_extension": ".py",
   "mimetype": "text/x-python",
   "name": "python",
   "nbconvert_exporter": "python",
   "pygments_lexer": "ipython3",
   "version": "3.11.5"
  }
 },
 "nbformat": 4,
 "nbformat_minor": 1
}
